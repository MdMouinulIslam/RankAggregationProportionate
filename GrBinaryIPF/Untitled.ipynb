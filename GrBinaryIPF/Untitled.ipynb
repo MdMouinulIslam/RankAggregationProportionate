{
 "cells": [
  {
   "cell_type": "code",
   "execution_count": 24,
   "metadata": {},
   "outputs": [],
   "source": [
    "import os\n",
    "import pandas as pd\n",
    "def getParent(path: str, levels=2) -> str:\n",
    "    \"\"\"\n",
    "    @param path: starts without /\n",
    "    @return: Parent path at the specified levels above.\n",
    "    \"\"\"\n",
    "    current_directory = os.path.dirname(\"__file__\")\n",
    "\n",
    "    parent_directory = current_directory\n",
    "    for i in range(0, levels):\n",
    "        parent_directory = os.path.split(parent_directory)[0]\n",
    "\n",
    "    file_path = os.path.join(parent_directory, path)\n",
    "    return file_path\n",
    "    \n",
    "    \n",
    "filePath = getParent(\"data/top25_dfs.pickle\",1)"
   ]
  },
  {
   "cell_type": "code",
   "execution_count": 25,
   "metadata": {},
   "outputs": [
    {
     "data": {
      "text/plain": [
       "'data/top25_dfs.pickle'"
      ]
     },
     "execution_count": 25,
     "metadata": {},
     "output_type": "execute_result"
    }
   ],
   "source": [
    "filePath"
   ]
  },
  {
   "cell_type": "code",
   "execution_count": 26,
   "metadata": {},
   "outputs": [],
   "source": [
    "cpath = os.getcwd()"
   ]
  },
  {
   "cell_type": "code",
   "execution_count": 27,
   "metadata": {},
   "outputs": [],
   "source": [
    " for i in range(0, 1):\n",
    "        parent_directory = os.path.split(cpath)[0]"
   ]
  },
  {
   "cell_type": "code",
   "execution_count": 31,
   "metadata": {},
   "outputs": [],
   "source": [
    "fpath = os.path.join(parent_directory, \"data/top25_dfs.pickle\")"
   ]
  },
  {
   "cell_type": "code",
   "execution_count": 32,
   "metadata": {},
   "outputs": [
    {
     "data": {
      "text/plain": [
       "'D:\\\\sigmod_reproduce\\\\data/top25_dfs.pickle'"
      ]
     },
     "execution_count": 32,
     "metadata": {},
     "output_type": "execute_result"
    }
   ],
   "source": [
    "fpath"
   ]
  },
  {
   "cell_type": "code",
   "execution_count": 33,
   "metadata": {},
   "outputs": [],
   "source": [
    "object = pd.read_pickle(fpath)\n",
    "data = object[1]"
   ]
  },
  {
   "cell_type": "code",
   "execution_count": 35,
   "metadata": {},
   "outputs": [
    {
     "data": {
      "text/html": [
       "<div>\n",
       "<style scoped>\n",
       "    .dataframe tbody tr th:only-of-type {\n",
       "        vertical-align: middle;\n",
       "    }\n",
       "\n",
       "    .dataframe tbody tr th {\n",
       "        vertical-align: top;\n",
       "    }\n",
       "\n",
       "    .dataframe thead th {\n",
       "        text-align: right;\n",
       "    }\n",
       "</style>\n",
       "<table border=\"1\" class=\"dataframe\">\n",
       "  <thead>\n",
       "    <tr style=\"text-align: right;\">\n",
       "      <th></th>\n",
       "      <th>Rank1</th>\n",
       "      <th>Rank2</th>\n",
       "      <th>Rank3</th>\n",
       "      <th>Rank4</th>\n",
       "      <th>Rank5</th>\n",
       "      <th>Rank6</th>\n",
       "      <th>Rank7</th>\n",
       "      <th>Rank8</th>\n",
       "      <th>Rank9</th>\n",
       "      <th>Rank10</th>\n",
       "      <th>...</th>\n",
       "      <th>Rank17</th>\n",
       "      <th>Rank18</th>\n",
       "      <th>Rank19</th>\n",
       "      <th>Rank20</th>\n",
       "      <th>Rank21</th>\n",
       "      <th>Rank22</th>\n",
       "      <th>Rank23</th>\n",
       "      <th>Rank24</th>\n",
       "      <th>Rank</th>\n",
       "      <th>Division</th>\n",
       "    </tr>\n",
       "  </thead>\n",
       "  <tbody>\n",
       "    <tr>\n",
       "      <th>Adam Thielen</th>\n",
       "      <td>10</td>\n",
       "      <td>9</td>\n",
       "      <td>9</td>\n",
       "      <td>9</td>\n",
       "      <td>9</td>\n",
       "      <td>8</td>\n",
       "      <td>4</td>\n",
       "      <td>9</td>\n",
       "      <td>8</td>\n",
       "      <td>12</td>\n",
       "      <td>...</td>\n",
       "      <td>9</td>\n",
       "      <td>12</td>\n",
       "      <td>11</td>\n",
       "      <td>8</td>\n",
       "      <td>9</td>\n",
       "      <td>9</td>\n",
       "      <td>10</td>\n",
       "      <td>12</td>\n",
       "      <td>9</td>\n",
       "      <td>1</td>\n",
       "    </tr>\n",
       "    <tr>\n",
       "      <th>Mike Evans</th>\n",
       "      <td>5</td>\n",
       "      <td>4</td>\n",
       "      <td>4</td>\n",
       "      <td>7</td>\n",
       "      <td>4</td>\n",
       "      <td>1</td>\n",
       "      <td>7</td>\n",
       "      <td>4</td>\n",
       "      <td>4</td>\n",
       "      <td>4</td>\n",
       "      <td>...</td>\n",
       "      <td>6</td>\n",
       "      <td>8</td>\n",
       "      <td>2</td>\n",
       "      <td>4</td>\n",
       "      <td>4</td>\n",
       "      <td>4</td>\n",
       "      <td>9</td>\n",
       "      <td>4</td>\n",
       "      <td>4</td>\n",
       "      <td>1</td>\n",
       "    </tr>\n",
       "  </tbody>\n",
       "</table>\n",
       "<p>2 rows × 26 columns</p>\n",
       "</div>"
      ],
      "text/plain": [
       "              Rank1  Rank2  Rank3  Rank4  Rank5  Rank6  Rank7  Rank8  Rank9  \\\n",
       "Adam Thielen     10      9      9      9      9      8      4      9      8   \n",
       "Mike Evans        5      4      4      7      4      1      7      4      4   \n",
       "\n",
       "              Rank10  ...  Rank17  Rank18  Rank19  Rank20  Rank21  Rank22  \\\n",
       "Adam Thielen      12  ...       9      12      11       8       9       9   \n",
       "Mike Evans         4  ...       6       8       2       4       4       4   \n",
       "\n",
       "              Rank23  Rank24  Rank  Division  \n",
       "Adam Thielen      10      12     9         1  \n",
       "Mike Evans         9       4     4         1  \n",
       "\n",
       "[2 rows x 26 columns]"
      ]
     },
     "execution_count": 35,
     "metadata": {},
     "output_type": "execute_result"
    }
   ],
   "source": []
  },
  {
   "cell_type": "code",
   "execution_count": null,
   "metadata": {},
   "outputs": [],
   "source": []
  }
 ],
 "metadata": {
  "kernelspec": {
   "display_name": "Python 3",
   "language": "python",
   "name": "python3"
  },
  "language_info": {
   "codemirror_mode": {
    "name": "ipython",
    "version": 3
   },
   "file_extension": ".py",
   "mimetype": "text/x-python",
   "name": "python",
   "nbconvert_exporter": "python",
   "pygments_lexer": "ipython3",
   "version": "3.7.4"
  }
 },
 "nbformat": 4,
 "nbformat_minor": 2
}
