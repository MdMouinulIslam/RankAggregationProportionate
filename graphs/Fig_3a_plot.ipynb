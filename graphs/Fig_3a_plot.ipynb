{
 "cells": [
  {
   "cell_type": "code",
   "execution_count": null,
   "metadata": {},
   "outputs": [],
   "source": []
  },
  {
   "cell_type": "code",
   "execution_count": 2,
   "metadata": {},
   "outputs": [],
   "source": [
    "import pandas as pd\n",
    "import os\n",
    "import pandas as pd\n",
    "from GrBinaryIPF import GrBinaryIPF\n",
    "import math\n",
    "\n",
    "fpath =  \"data/GermanCredit_new.csv\""
   ]
  },
  {
   "cell_type": "code",
   "execution_count": 3,
   "metadata": {},
   "outputs": [],
   "source": [
    "data = pd.read_csv(fpath)"
   ]
  },
  {
   "cell_type": "code",
   "execution_count": 4,
   "metadata": {},
   "outputs": [
    {
     "data": {
      "text/html": [
       "<div>\n",
       "<style scoped>\n",
       "    .dataframe tbody tr th:only-of-type {\n",
       "        vertical-align: middle;\n",
       "    }\n",
       "\n",
       "    .dataframe tbody tr th {\n",
       "        vertical-align: top;\n",
       "    }\n",
       "\n",
       "    .dataframe thead th {\n",
       "        text-align: right;\n",
       "    }\n",
       "</style>\n",
       "<table border=\"1\" class=\"dataframe\">\n",
       "  <thead>\n",
       "    <tr style=\"text-align: right;\">\n",
       "      <th></th>\n",
       "      <th>id</th>\n",
       "      <th>DurationMonth</th>\n",
       "      <th>CreditAmount</th>\n",
       "      <th>score</th>\n",
       "      <th>sex</th>\n",
       "      <th>age35</th>\n",
       "      <th>protected</th>\n",
       "    </tr>\n",
       "  </thead>\n",
       "  <tbody>\n",
       "    <tr>\n",
       "      <th>0</th>\n",
       "      <td>0</td>\n",
       "      <td>0.029412</td>\n",
       "      <td>0.949433</td>\n",
       "      <td>0.600715</td>\n",
       "      <td>1</td>\n",
       "      <td>0</td>\n",
       "      <td>2</td>\n",
       "    </tr>\n",
       "    <tr>\n",
       "      <th>1</th>\n",
       "      <td>1</td>\n",
       "      <td>0.647059</td>\n",
       "      <td>0.686310</td>\n",
       "      <td>0.496131</td>\n",
       "      <td>0</td>\n",
       "      <td>1</td>\n",
       "      <td>3</td>\n",
       "    </tr>\n",
       "    <tr>\n",
       "      <th>2</th>\n",
       "      <td>2</td>\n",
       "      <td>0.117647</td>\n",
       "      <td>0.898426</td>\n",
       "      <td>0.506866</td>\n",
       "      <td>1</td>\n",
       "      <td>0</td>\n",
       "      <td>2</td>\n",
       "    </tr>\n",
       "    <tr>\n",
       "      <th>3</th>\n",
       "      <td>3</td>\n",
       "      <td>0.558824</td>\n",
       "      <td>0.580059</td>\n",
       "      <td>0.599482</td>\n",
       "      <td>1</td>\n",
       "      <td>0</td>\n",
       "      <td>2</td>\n",
       "    </tr>\n",
       "    <tr>\n",
       "      <th>4</th>\n",
       "      <td>4</td>\n",
       "      <td>0.294118</td>\n",
       "      <td>0.745791</td>\n",
       "      <td>0.550060</td>\n",
       "      <td>1</td>\n",
       "      <td>0</td>\n",
       "      <td>2</td>\n",
       "    </tr>\n",
       "  </tbody>\n",
       "</table>\n",
       "</div>"
      ],
      "text/plain": [
       "   id  DurationMonth  CreditAmount     score  sex  age35  protected\n",
       "0   0       0.029412      0.949433  0.600715    1      0          2\n",
       "1   1       0.647059      0.686310  0.496131    0      1          3\n",
       "2   2       0.117647      0.898426  0.506866    1      0          2\n",
       "3   3       0.558824      0.580059  0.599482    1      0          2\n",
       "4   4       0.294118      0.745791  0.550060    1      0          2"
      ]
     },
     "execution_count": 4,
     "metadata": {},
     "output_type": "execute_result"
    }
   ],
   "source": [
    "data.head()"
   ]
  },
  {
   "cell_type": "code",
   "execution_count": 5,
   "metadata": {},
   "outputs": [
    {
     "data": {
      "text/plain": [
       "0      0.600715\n",
       "1      0.496131\n",
       "2      0.506866\n",
       "3      0.599482\n",
       "4      0.550060\n",
       "         ...   \n",
       "995    0.526056\n",
       "996    0.522583\n",
       "997    0.574356\n",
       "998    0.560963\n",
       "999    0.470991\n",
       "Name: score, Length: 1000, dtype: float64"
      ]
     },
     "execution_count": 5,
     "metadata": {},
     "output_type": "execute_result"
    }
   ],
   "source": [
    "data[\"score\"]"
   ]
  },
  {
   "cell_type": "code",
   "execution_count": 6,
   "metadata": {},
   "outputs": [
    {
     "name": "stdout",
     "output_type": "stream",
     "text": [
      "7\n"
     ]
    }
   ],
   "source": [
    "movies = [i for i in range(1,265)]\n",
    "nrow = len(data)\n",
    "ncol = int(data.size/len(data))\n",
    "print(ncol)"
   ]
  },
  {
   "cell_type": "code",
   "execution_count": 7,
   "metadata": {},
   "outputs": [],
   "source": [
    "rankDic = {}\n",
    "rankList = []\n",
    "for i in range(1,ncol-1):\n",
    "    row = data.iloc[:,i ]\n",
    "    \n",
    "    #print(row)\n",
    "    rank = {}\n",
    "    for j in range(0,nrow):\n",
    "        rankDic[(i-1,row[j])] = j\n",
    "        rank[row[j]] = j  \n",
    "    rankList.append(rank)"
   ]
  },
  {
   "cell_type": "code",
   "execution_count": 5,
   "metadata": {},
   "outputs": [],
   "source": [
    "G1 = []\n",
    "G2 = []\n",
    "row = data.iloc[25, :]\n",
    "for i in range(0,num_of_player):\n",
    "    if(row[i] == 0):\n",
    "        G1.append(players[i])\n",
    "    else:\n",
    "        G2.append(players[i])"
   ]
  },
  {
   "cell_type": "code",
   "execution_count": 6,
   "metadata": {},
   "outputs": [],
   "source": [
    "p1 = len(G1)/len(itemList)\n",
    "p2 = len(G2)/len(itemList)"
   ]
  },
  {
   "cell_type": "code",
   "execution_count": 7,
   "metadata": {},
   "outputs": [],
   "source": [
    "rank = data.iloc[1, :]"
   ]
  },
  {
   "cell_type": "code",
   "execution_count": null,
   "metadata": {},
   "outputs": [],
   "source": []
  },
  {
   "cell_type": "code",
   "execution_count": 8,
   "metadata": {},
   "outputs": [],
   "source": [
    "ranktup = []\n",
    "j = 0\n",
    "for i in rank:\n",
    "    ranktup.append((i,j))\n",
    "    j = j + 1\n",
    "ranktup.sort()\n",
    "rank = []\n",
    "\n",
    "for i,j in ranktup:\n",
    "    rank.append(j)   \n"
   ]
  },
  {
   "cell_type": "code",
   "execution_count": 9,
   "metadata": {},
   "outputs": [],
   "source": [
    "tup = []\n",
    "for i in range(0,len(rank)):\n",
    "    tup.append((rank[i],i))"
   ]
  },
  {
   "cell_type": "code",
   "execution_count": 10,
   "metadata": {},
   "outputs": [],
   "source": [
    "tup.sort()"
   ]
  },
  {
   "cell_type": "code",
   "execution_count": 11,
   "metadata": {},
   "outputs": [],
   "source": [
    "rank = []\n",
    "for i,j in tup:\n",
    "    rank.append(j)"
   ]
  },
  {
   "cell_type": "code",
   "execution_count": null,
   "metadata": {},
   "outputs": [],
   "source": []
  },
  {
   "cell_type": "code",
   "execution_count": 12,
   "metadata": {},
   "outputs": [],
   "source": [
    "group = row"
   ]
  },
  {
   "cell_type": "code",
   "execution_count": null,
   "metadata": {},
   "outputs": [],
   "source": []
  },
  {
   "cell_type": "code",
   "execution_count": 13,
   "metadata": {},
   "outputs": [],
   "source": [
    "\n",
    "def GrBinaryIPF(rank,group):\n",
    "    Rho0 = []\n",
    "    Rho1 = []\n",
    "    for i in rank:\n",
    "        if group[i] == 1:\n",
    "            Rho0.append(i)\n",
    "        else:\n",
    "            Rho1.append(i)\n",
    "\n",
    "    j = 1\n",
    "    rankDic = {}\n",
    "    for itm in rank:\n",
    "        rankDic[itm] = j\n",
    "        j = j + 1\n",
    "\n",
    "    urgent = []\n",
    "    Rout = []\n",
    "    P1count = 0\n",
    "    P0count = 0\n",
    "\n",
    "    Fp0 = len(Rho0)/len(rank)\n",
    "    Fp1 = len(Rho1)/len(rank)\n",
    "\n",
    "    i = 1\n",
    "    while len(Rho0) != 0 or len(Rho1) != 0:\n",
    "        #print(Rout)\n",
    "        if P1count >= len(Rho1):\n",
    "            Rout.extend(Rho0[P0count:len(Rho0)])\n",
    "            return Rout\n",
    "        if P1count >= len(Rho0):\n",
    "            Rout.extend(Rho1[P1count:len(Rho1)])\n",
    "            return Rout\n",
    "\n",
    "        if len(urgent) == 0:\n",
    "            if rankDic[Rho1[P1count]] < rankDic[Rho0[P0count]]:\n",
    "                Rout.append(Rho1[P1count])\n",
    "                P1count = P1count + 1\n",
    "            else:\n",
    "                Rout.append(Rho0[P0count])\n",
    "                P0count = P0count + 1\n",
    "        else:\n",
    "            if urgent[0] == 'P1':\n",
    "                Rout.append(Rho1[P1count])\n",
    "                P1count = P1count + 1\n",
    "            else:\n",
    "                Rout.append(Rho0[P0count])\n",
    "                P0count = P0count + 1\n",
    "            urgent = []\n",
    "        # update urgent\n",
    "        if Fp1 * (i + 1) - P1count >= 1:\n",
    "            urgent.append('P1')\n",
    "\n",
    "        if Fp0 * (i + 1) - P0count >= 1:\n",
    "            urgent.append('P0')\n",
    "        i = i + 1\n",
    "        #print(i)\n",
    "    return  Rout\n"
   ]
  },
  {
   "cell_type": "code",
   "execution_count": 14,
   "metadata": {},
   "outputs": [],
   "source": [
    "Rout = GrBinaryIPF(rank,group)"
   ]
  },
  {
   "cell_type": "code",
   "execution_count": null,
   "metadata": {},
   "outputs": [],
   "source": []
  },
  {
   "cell_type": "code",
   "execution_count": 15,
   "metadata": {},
   "outputs": [],
   "source": [
    "A = ['0','1']"
   ]
  },
  {
   "cell_type": "code",
   "execution_count": 16,
   "metadata": {},
   "outputs": [],
   "source": [
    "P = {'0':p1,'1':p2}"
   ]
  },
  {
   "cell_type": "code",
   "execution_count": 17,
   "metadata": {},
   "outputs": [],
   "source": [
    "S={}\n",
    "for a in A:\n",
    "   \n",
    "    scoreList = []\n",
    "    \n",
    "    \n",
    "    S[a] = scoreList"
   ]
  },
  {
   "cell_type": "code",
   "execution_count": 18,
   "metadata": {},
   "outputs": [],
   "source": [
    "S = {A[0]:[],A[1]:[]}\n",
    "score = len(rank)\n",
    "for i in rank:\n",
    "    if group[i] == 0:\n",
    "        S[A[0]].append((score,i))\n",
    "    else:\n",
    "        S[A[1]].append((score,i)) \n",
    "    score = score - 1"
   ]
  },
  {
   "cell_type": "code",
   "execution_count": 19,
   "metadata": {},
   "outputs": [],
   "source": [
    "def swap(dict,i,j):\n",
    "    item = dict[i]\n",
    "    dict[i] = dict[j]\n",
    "    dict[j] = item "
   ]
  },
  {
   "cell_type": "code",
   "execution_count": 20,
   "metadata": {},
   "outputs": [],
   "source": [
    "def DetConstSort(S,A,P,kmax):\n",
    "    counts = {}\n",
    "    minCounts = {}\n",
    "    for ai in A:\n",
    "        counts[ai] = 0\n",
    "        minCounts[ai] = 0\n",
    "    \n",
    "    rankedAttList = {}\n",
    "    rankedScoreList = {}\n",
    "    maxIndices = {}\n",
    "    lastEmpty = 0\n",
    "    k = 0\n",
    "    \n",
    "    while lastEmpty <= kmax:\n",
    "        k = k + 1\n",
    "        tempMinCounts = {}\n",
    "        for ai in A:\n",
    "            tempMinCounts[ai] = math.floor(k * P[ai])\n",
    "        changedMins = []\n",
    "        for ai in A:\n",
    "            if minCounts[ai ] < tempMinCounts[ai]:\n",
    "                changedMins.append((S[ai][counts[ai]],ai))\n",
    "        if len(changedMins) != 0 :\n",
    "            changedMins.sort(reverse=True)\n",
    "            #ordChangedMins = changedMins\n",
    "        for sai,ai in  changedMins:\n",
    "            rankedAttList[lastEmpty] = ai\n",
    "            \n",
    "            rankedScoreList[lastEmpty] = S[ai][counts[ai]]\n",
    "            maxIndices[lastEmpty] = k\n",
    "            start = lastEmpty\n",
    "            while start > 0 and maxIndices[start - 1] >= start and rankedScoreList[start-1][0] < rankedScoreList[start][0]:\n",
    "                swap(maxIndices,start - 1,start)\n",
    "                swap(rankedAttList,start - 1, start)\n",
    "                swap(rankedScoreList,start - 1, start)\n",
    "                start = start - 1\n",
    "            counts[ai] = counts[ai] + 1 \n",
    "            lastEmpty = lastEmpty + 1\n",
    "        minCounts = tempMinCounts\n",
    "    return (rankedAttList, rankedScoreList)"
   ]
  },
  {
   "cell_type": "code",
   "execution_count": 21,
   "metadata": {},
   "outputs": [],
   "source": [
    "kmax = len(rank) - 1\n",
    "rankedAttList,rankedScoreList = DetConstSort(S,A,P,kmax)"
   ]
  },
  {
   "cell_type": "code",
   "execution_count": 22,
   "metadata": {},
   "outputs": [],
   "source": [
    "detOut = []\n",
    "for key in rankedScoreList.keys():\n",
    "    detOut.append(rankedScoreList[key][1])"
   ]
  },
  {
   "cell_type": "code",
   "execution_count": null,
   "metadata": {},
   "outputs": [],
   "source": []
  },
  {
   "cell_type": "code",
   "execution_count": null,
   "metadata": {},
   "outputs": [],
   "source": []
  },
  {
   "cell_type": "code",
   "execution_count": 23,
   "metadata": {
    "scrolled": true
   },
   "outputs": [
    {
     "name": "stdout",
     "output_type": "stream",
     "text": [
      "1 0\n",
      "pfairness satisfied by GrBinaryIPF =  1 100.0\n",
      "2 0\n",
      "pfairness satisfied by GrBinaryIPF =  2 100.0\n",
      "3 0\n",
      "pfairness satisfied by GrBinaryIPF =  3 100.0\n",
      "4 0\n",
      "pfairness satisfied by GrBinaryIPF =  4 100.0\n",
      "5 0\n",
      "pfairness satisfied by GrBinaryIPF =  5 100.0\n",
      "6 0\n",
      "pfairness satisfied by GrBinaryIPF =  6 100.0\n",
      "7 0\n",
      "pfairness satisfied by GrBinaryIPF =  7 100.0\n",
      "8 0\n",
      "pfairness satisfied by GrBinaryIPF =  8 100.0\n",
      "9 0\n",
      "pfairness satisfied by GrBinaryIPF =  9 100.0\n",
      "10 0\n",
      "pfairness satisfied by GrBinaryIPF =  10 100.0\n",
      "11 0\n",
      "pfairness satisfied by GrBinaryIPF =  11 100.0\n",
      "12 0\n",
      "pfairness satisfied by GrBinaryIPF =  12 100.0\n",
      "13 0\n",
      "pfairness satisfied by GrBinaryIPF =  13 100.0\n",
      "14 0\n",
      "pfairness satisfied by GrBinaryIPF =  14 100.0\n",
      "15 0\n",
      "pfairness satisfied by GrBinaryIPF =  15 100.0\n",
      "16 0\n",
      "pfairness satisfied by GrBinaryIPF =  16 100.0\n",
      "17 0\n",
      "pfairness satisfied by GrBinaryIPF =  17 100.0\n",
      "18 0\n",
      "pfairness satisfied by GrBinaryIPF =  18 100.0\n",
      "19 0\n",
      "pfairness satisfied by GrBinaryIPF =  19 100.0\n",
      "20 0\n",
      "pfairness satisfied by GrBinaryIPF =  20 100.0\n",
      "21 0\n",
      "pfairness satisfied by GrBinaryIPF =  21 100.0\n",
      "22 0\n",
      "pfairness satisfied by GrBinaryIPF =  22 100.0\n",
      "23 0\n",
      "pfairness satisfied by GrBinaryIPF =  23 100.0\n",
      "24 0\n",
      "pfairness satisfied by GrBinaryIPF =  24 100.0\n",
      "25 0\n",
      "pfairness satisfied by GrBinaryIPF =  25 100.0\n",
      "26 0\n",
      "pfairness satisfied by GrBinaryIPF =  26 100.0\n",
      "27 0\n",
      "pfairness satisfied by GrBinaryIPF =  27 100.0\n",
      "28 0\n",
      "pfairness satisfied by GrBinaryIPF =  28 100.0\n",
      "29 0\n",
      "pfairness satisfied by GrBinaryIPF =  29 100.0\n",
      "30 0\n",
      "pfairness satisfied by GrBinaryIPF =  30 100.0\n"
     ]
    }
   ],
   "source": [
    "sumFail = 0\n",
    "count = {0:0,1:0}\n",
    "x_GrB = []\n",
    "y = []\n",
    "A = [0,1]\n",
    "P=[p1,p2]\n",
    "for i in range(0,30):\n",
    "    itemId = Rout[i]\n",
    "    itemGrp = group[itemId]\n",
    "    \n",
    "    count[itemGrp] = count[itemGrp] + 1\n",
    "    \n",
    "    violates = 0\n",
    "    n = i + 1\n",
    "    for j in A:\n",
    "        bot = math.floor(n*P[j])\n",
    "        top = math.ceil(n*P[j])\n",
    "        #print(j,bot,top)\n",
    "        if (count[j] > top ):\n",
    "            violates = violates + 1\n",
    "    print(n,violates)\n",
    "    \n",
    "    x_GrB.append((n-sumFail)/n*100)\n",
    "    sumFail =sumFail +  violates\n",
    "    print('pfairness satisfied by GrBinaryIPF = ',n,(n-sumFail)/n*100)"
   ]
  },
  {
   "cell_type": "code",
   "execution_count": 24,
   "metadata": {},
   "outputs": [
    {
     "data": {
      "text/plain": [
       "[0, 1]"
      ]
     },
     "execution_count": 24,
     "metadata": {},
     "output_type": "execute_result"
    }
   ],
   "source": [
    "A"
   ]
  },
  {
   "cell_type": "code",
   "execution_count": 28,
   "metadata": {},
   "outputs": [],
   "source": [
    "x = [10,20,30,40,50]\n",
    "y = [2,4,13,17,21]\n",
    "z = [0,1,4,6,7]"
   ]
  },
  {
   "cell_type": "code",
   "execution_count": 29,
   "metadata": {},
   "outputs": [
    {
     "name": "stdout",
     "output_type": "stream",
     "text": [
      "1 0\n",
      "sumfail =  1 100.0\n",
      "fail group =  1 0\n",
      "2 0\n",
      "sumfail =  2 100.0\n",
      "fail group =  2 0\n",
      "3 0\n",
      "sumfail =  3 100.0\n",
      "fail group =  3 0\n",
      "4 0\n",
      "sumfail =  4 100.0\n",
      "fail group =  4 0\n",
      "5 1\n",
      "sumfail =  5 80.0\n",
      "fail group =  5 1\n",
      "6 1\n",
      "sumfail =  6 66.66666666666667\n",
      "fail group =  6 1\n",
      "7 1\n",
      "sumfail =  7 57.142857142857146\n",
      "fail group =  7 1\n",
      "8 1\n",
      "sumfail =  8 50.0\n",
      "fail group =  8 1\n",
      "9 1\n",
      "sumfail =  9 44.44444444444444\n",
      "fail group =  9 1\n",
      "10 1\n",
      "sumfail =  10 40.0\n",
      "fail group =  10 1\n",
      "11 1\n",
      "sumfail =  11 36.36363636363637\n",
      "fail group =  11 1\n",
      "12 1\n",
      "sumfail =  12 33.33333333333334\n",
      "fail group =  12 1\n",
      "13 1\n",
      "sumfail =  13 30.769230769230774\n",
      "fail group =  13 1\n",
      "14 1\n",
      "sumfail =  14 28.57142857142857\n",
      "fail group =  14 1\n",
      "15 1\n",
      "sumfail =  15 26.66666666666667\n",
      "fail group =  15 1\n",
      "16 1\n",
      "sumfail =  16 25.0\n",
      "fail group =  16 1\n",
      "17 1\n",
      "sumfail =  17 23.529411764705884\n",
      "fail group =  17 1\n",
      "18 1\n",
      "sumfail =  18 22.222222222222214\n",
      "fail group =  18 1\n",
      "19 1\n",
      "sumfail =  19 21.05263157894737\n",
      "fail group =  19 1\n",
      "20 1\n",
      "sumfail =  20 20.0\n",
      "fail group =  20 1\n",
      "21 1\n",
      "sumfail =  21 19.04761904761905\n",
      "fail group =  21 1\n",
      "22 1\n",
      "sumfail =  22 18.181818181818173\n",
      "fail group =  22 1\n",
      "23 1\n",
      "sumfail =  23 17.391304347826093\n",
      "fail group =  23 1\n",
      "24 1\n",
      "sumfail =  24 16.666666666666657\n",
      "fail group =  24 1\n",
      "25 1\n",
      "sumfail =  25 16.0\n",
      "fail group =  25 1\n",
      "26 1\n",
      "sumfail =  26 15.384615384615387\n",
      "fail group =  26 1\n",
      "27 1\n",
      "sumfail =  27 14.81481481481481\n",
      "fail group =  27 1\n",
      "28 1\n",
      "sumfail =  28 14.285714285714292\n",
      "fail group =  28 1\n",
      "29 1\n",
      "sumfail =  29 13.793103448275872\n",
      "fail group =  29 1\n",
      "30 1\n",
      "sumfail =  30 13.333333333333329\n",
      "fail group =  30 1\n"
     ]
    }
   ],
   "source": [
    "sumFail = 0\n",
    "sumtfail = 0\n",
    "count = {0:0,1:0}\n",
    "y_det = []\n",
    "z_det = []\n",
    "A = [0,1]\n",
    "P=[  0.59, 0.067] \n",
    "for i in range(0,len(rank)):\n",
    "    itemId = detOut[i]\n",
    "    itemGrp = group[itemId]\n",
    "    \n",
    "    count[itemGrp] = count[itemGrp] + 1\n",
    "    \n",
    "    violates = 0\n",
    "    tViolates = 0\n",
    "    n = i + 1\n",
    "    for j in A:\n",
    "        bot = math.floor(n*P[j])\n",
    "        top = math.ceil(n*P[j])\n",
    "        #print(j,bot,top,count[j])\n",
    "        if ((count[j] <= top ) == False ):\n",
    "            violates =  1\n",
    "            tViolates = tViolates + 1\n",
    "            #print('----------------------',j,bot,top,count[j])\n",
    "    print(n,violates)\n",
    "    \n",
    "    sumFail = sumFail +  violates\n",
    "    sumtfail = sumtfail + 2 - tViolates\n",
    "    \n",
    "    y_det.append(100-sumFail/n*100)\n",
    "    z_det.append((sumtfail/n)/2*100)\n",
    "    \n",
    "    print('sumfail = ',n,100-sumFail/n*100)\n",
    "    print('fail group = ',n,tViolates)"
   ]
  },
  {
   "cell_type": "code",
   "execution_count": 30,
   "metadata": {},
   "outputs": [],
   "source": [
    "def KendallTau(P,Q,allids):\n",
    "    combinations = [p for p in itertools.product(allids, repeat=2)]\n",
    "    distance = 0\n",
    "    for tup in combinations:\n",
    "        if P[tup[0]] < P[tup[1]] and  Q[tup[1]] < Q[tup[0]]:\n",
    "            distance = distance + 1\n",
    "    return distance\n",
    "P={}\n",
    "Q = {}\n",
    "import itertools\n",
    "allids = []\n",
    "for i in range(0,len(detOut)):\n",
    "    allids.append(i)\n",
    "    \n",
    "for i in range(0, len(detOut)):\n",
    "    P[detOut[i]] = i\n",
    "    Q[rank[i]] = i\n",
    "\n",
    "k = KendallTau(P,Q,allids)"
   ]
  },
  {
   "cell_type": "code",
   "execution_count": null,
   "metadata": {},
   "outputs": [],
   "source": []
  },
  {
   "cell_type": "code",
   "execution_count": 31,
   "metadata": {},
   "outputs": [],
   "source": [
    "#3 (a) Fantasy football:OptIPF, GrBinaryIPF ,DetConstSort"
   ]
  },
  {
   "cell_type": "code",
   "execution_count": 33,
   "metadata": {},
   "outputs": [
    {
     "data": {
      "image/png": "[encoded data removed]",
      "text/plain": [
       "<Figure size 432x288 with 1 Axes>"
      ]
     },
     "metadata": {
      "needs_background": "light"
     },
     "output_type": "display_data"
    }
   ],
   "source": [
    "import matplotlib.pyplot as plt\n",
    "\n",
    "plt.plot(x,z)\n",
    "plt.plot(x,y)\n",
    "\n",
    "# create an index for each tick position\n",
    "\n",
    "plt.ylabel('Kemeny Distance',fontweight='bold',fontsize=22)\n",
    "plt.xlabel('Number of items',fontweight='bold',fontsize=22)\n",
    "\n",
    "plt.xticks([10,20,30,40,50], ['10','20','30','40','50'])\n",
    "plt.legend([\"GrBinaryIPF,OptIPF\",\"DetConstSort\"])\n",
    "plt.show()"
   ]
  },
  {
   "cell_type": "code",
   "execution_count": null,
   "metadata": {},
   "outputs": [],
   "source": []
  },
  {
   "cell_type": "code",
   "execution_count": null,
   "metadata": {},
   "outputs": [],
   "source": []
  },
  {
   "cell_type": "code",
   "execution_count": null,
   "metadata": {},
   "outputs": [],
   "source": []
  }
 ],
 "metadata": {
  "kernelspec": {
   "display_name": "Python 3",
   "language": "python",
   "name": "python3"
  },
  "language_info": {
   "codemirror_mode": {
    "name": "ipython",
    "version": 3
   },
   "file_extension": ".py",
   "mimetype": "text/x-python",
   "name": "python",
   "nbconvert_exporter": "python",
   "pygments_lexer": "ipython3",
   "version": "3.7.4"
  }
 },
 "nbformat": 4,
 "nbformat_minor": 2
}
